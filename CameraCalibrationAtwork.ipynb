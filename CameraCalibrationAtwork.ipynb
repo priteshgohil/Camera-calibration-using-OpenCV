{
 "cells": [
  {
   "cell_type": "code",
   "execution_count": 2,
   "metadata": {
    "collapsed": false
   },
   "outputs": [
    {
     "name": "stdout",
     "output_type": "stream",
     "text": [
      "['', '/home/pritesh/catkin_ws/devel/lib/python2.7/dist-packages', '/opt/ros/kinetic/lib/python2.7/dist-packages', '/home/pritesh/anaconda3/lib/python36.zip', '/home/pritesh/anaconda3/lib/python3.6', '/home/pritesh/anaconda3/lib/python3.6/lib-dynload', '/home/pritesh/.local/lib/python3.6/site-packages', '/home/pritesh/anaconda3/lib/python3.6/site-packages', '/home/pritesh/anaconda3/lib/python3.6/site-packages/Sphinx-1.5.1-py3.6.egg', '/home/pritesh/anaconda3/lib/python3.6/site-packages/IPython/extensions', '/home/pritesh/.ipython']\n"
     ]
    }
   ],
   "source": [
    ">>> import sys\n",
    ">>> print(sys.path)\n"
   ]
  },
  {
   "cell_type": "code",
   "execution_count": 3,
   "metadata": {
    "collapsed": false
   },
   "outputs": [
    {
     "name": "stdout",
     "output_type": "stream",
     "text": [
      "['', '/home/pritesh/catkin_ws/devel/lib/python2.7/dist-packages', '/home/pritesh/anaconda3/lib/python36.zip', '/home/pritesh/anaconda3/lib/python3.6', '/home/pritesh/anaconda3/lib/python3.6/lib-dynload', '/home/pritesh/.local/lib/python3.6/site-packages', '/home/pritesh/anaconda3/lib/python3.6/site-packages', '/home/pritesh/anaconda3/lib/python3.6/site-packages/Sphinx-1.5.1-py3.6.egg', '/home/pritesh/anaconda3/lib/python3.6/site-packages/IPython/extensions', '/home/pritesh/.ipython']\n"
     ]
    }
   ],
   "source": [
    "sys.path.remove('/opt/ros/kinetic/lib/python2.7/dist-packages')\n",
    "print(sys.path)\n"
   ]
  },
  {
   "cell_type": "code",
   "execution_count": 4,
   "metadata": {
    "collapsed": false
   },
   "outputs": [
    {
     "name": "stdout",
     "output_type": "stream",
     "text": [
      "atWork50/my_photo-16.jpg\n",
      "atWork50/my_photo-48.jpg\n",
      "atWork50/my_photo-14.jpg\n",
      "atWork50/my_photo-11.jpg\n",
      "atWork50/my_photo-45.jpg\n",
      "atWork50/my_photo-37.jpg\n",
      "atWork50/my_photo-51.jpg\n",
      "atWork50/my_photo-47.jpg\n",
      "atWork50/my_photo-49.jpg\n",
      "atWork50/my_photo-20.jpg\n",
      "atWork50/my_photo-36.jpg\n",
      "atWork50/my_photo-59.jpg\n",
      "atWork50/my_photo-8.jpg\n",
      "atWork50/my_photo-17.jpg\n",
      "atWork50/my_photo-10.jpg\n",
      "atWork50/my_photo-42.jpg\n",
      "atWork50/my_photo-57.jpg\n",
      "atWork50/my_photo-53.jpg\n",
      "atWork50/my_photo-24.jpg\n",
      "atWork50/my_photo-27.jpg\n",
      "atWork50/my_photo-66.jpg\n",
      "atWork50/my_photo-31.jpg\n",
      "atWork50/my_photo-32.jpg\n",
      "atWork50/my_photo-15.jpg\n",
      "atWork50/my_photo-50.jpg\n",
      "atWork50/my_photo-4.jpg\n",
      "atWork50/my_photo-58.jpg\n",
      "atWork50/my_photo-28.jpg\n",
      "atWork50/my_photo-60.jpg\n",
      "atWork50/my_photo-3.jpg\n",
      "atWork50/my_photo-63.jpg\n",
      "atWork50/my_photo-26.jpg\n",
      "atWork50/my_photo-6.jpg\n",
      "atWork50/my_photo-30.jpg\n",
      "atWork50/my_photo-68.jpg\n",
      "atWork50/my_photo-65.jpg\n",
      "atWork50/my_photo-39.jpg\n",
      "atWork50/my_photo-41.jpg\n",
      "atWork50/my_photo-7.jpg\n",
      "atWork50/my_photo-33.jpg\n",
      "atWork50/my_photo-13.jpg\n",
      "atWork50/my_photo-18.jpg\n",
      "atWork50/my_photo-35.jpg\n",
      "atWork50/my_photo-69.jpg\n",
      "atWork50/my_photo-61.jpg\n",
      "atWork50/my_photo-44.jpg\n",
      "atWork50/my_photo-29.jpg\n",
      "atWork50/my_photo-5.jpg\n",
      "atWork50/my_photo-38.jpg\n",
      "atWork50/my_photo-43.jpg\n",
      "atWork50/my_photo-54.jpg\n",
      "atWork50/my_photo-52.jpg\n",
      "atWork50/my_photo-9.jpg\n",
      "atWork50/my_photo-62.jpg\n",
      "atWork50/my_photo-12.jpg\n",
      "atWork50/my_photo-40.jpg\n",
      "atWork50/my_photo-34.jpg\n",
      "atWork50/my_photo-22.jpg\n",
      "atWork50/my_photo-56.jpg\n",
      "atWork50/my_photo-55.jpg\n",
      "atWork50/my_photo-21.jpg\n",
      "atWork50/my_photo-70.jpg\n",
      "atWork50/my_photo-19.jpg\n",
      "atWork50/my_photo-64.jpg\n"
     ]
    }
   ],
   "source": [
    "import numpy as np\n",
    "import cv2\n",
    "import glob\n",
    "import uuid\n",
    "\n",
    "# termination criteria\n",
    "criteria = (cv2.TERM_CRITERIA_EPS + cv2.TERM_CRITERIA_MAX_ITER, 30, 0.001)\n",
    "\n",
    "# prepare object points, like (0,0,0), (1,0,0), (2,0,0) ....,(6,5,0)\n",
    "objp = np.zeros((8*6,3), np.float32)\n",
    "objp[:,:2] = np.mgrid[0:8,0:6].T.reshape(-1,2)\n",
    "\n",
    "# Arrays to store object points and image points from all the images.\n",
    "objpoints = [] # 3d point in real world space\n",
    "imgpoints = [] # 2d points in image plane.\n",
    "\n",
    "# images = glob.glob('selectedFeature/*.jpg')\n",
    "images = glob.glob('atWork50/*.jpg')\n",
    "\n",
    "i=0\n",
    "for fname in images:\n",
    "    print(fname)\n",
    "    img = cv2.imread(fname)\n",
    "    gray = cv2.cvtColor(img,cv2.COLOR_BGR2GRAY)\n",
    "\n",
    "    # Find the chess board corners\n",
    "    # Remember if it has 9x7 size then enter (8,6)\n",
    "    ret, corners = cv2.findChessboardCorners(gray, (8,6),None)\n",
    "\n",
    "    # If found, add object points, image points (after refining them)\n",
    "    if ret == True:\n",
    "        objpoints.append(objp)\n",
    "\n",
    "        corners2 = cv2.cornerSubPix(gray,corners,(11,11),(-1,-1),criteria)\n",
    "        imgpoints.append(corners2)\n",
    "\n",
    "        # Draw and display the corners\n",
    "        img = cv2.drawChessboardCorners(img, (8,6), corners2,ret)\n",
    "        outfile = '%s/%s.jpg' % ('cbcross', 'checker' + str(fname[-6:-4]))\n",
    "        cv2.imwrite(outfile,img)\n",
    "        cv2.imshow('img',img)\n",
    "        cv2.waitKey(500)\n",
    "        i = i+1\n",
    "\n",
    "cv2.destroyAllWindows()"
   ]
  },
  {
   "cell_type": "code",
   "execution_count": 5,
   "metadata": {
    "collapsed": true
   },
   "outputs": [],
   "source": [
    "ret, mtx, dist, rvecs, tvecs = cv2.calibrateCamera(objpoints, imgpoints, gray.shape[::-1],None,None)"
   ]
  },
  {
   "cell_type": "code",
   "execution_count": 7,
   "metadata": {
    "collapsed": false
   },
   "outputs": [
    {
     "data": {
      "text/plain": [
       "array([[-0.023,  0.188,  0.002,  0.002, -0.353]])"
      ]
     },
     "execution_count": 7,
     "metadata": {},
     "output_type": "execute_result"
    }
   ],
   "source": [
    "np.round(dist,3)"
   ]
  },
  {
   "cell_type": "code",
   "execution_count": 8,
   "metadata": {
    "collapsed": false
   },
   "outputs": [
    {
     "data": {
      "text/plain": [
       "array([[1.44327526e+03, 0.00000000e+00, 9.58085491e+02],\n",
       "       [0.00000000e+00, 1.44302306e+03, 5.68318695e+02],\n",
       "       [0.00000000e+00, 0.00000000e+00, 1.00000000e+00]])"
      ]
     },
     "execution_count": 8,
     "metadata": {},
     "output_type": "execute_result"
    }
   ],
   "source": [
    "mtx"
   ]
  },
  {
   "cell_type": "code",
   "execution_count": 9,
   "metadata": {
    "collapsed": false
   },
   "outputs": [
    {
     "name": "stdout",
     "output_type": "stream",
     "text": [
      "\\lbrack -1.844 , -3.761 , 12.458 \\rbrack \\\\\n",
      "\\lbrack 4.374 , -5.65 , 22.316 \\rbrack \\\\\n",
      "\\lbrack -2.08 , -3.093 , 11.215 \\rbrack \\\\\n",
      "\\lbrack -6.456 , -5.092 , 18.968 \\rbrack \\\\\n",
      "\\lbrack 3.172 , -2.277 , 17.385 \\rbrack \\\\\n",
      "\\lbrack -5.288 , -3.189 , 20.92 \\rbrack \\\\\n",
      "\\lbrack -1.498 , -3.538 , 15.429 \\rbrack \\\\\n",
      "\\lbrack 4.672 , -0.635 , 21.351 \\rbrack \\\\\n",
      "\\lbrack 4.48 , -3.061 , 21.528 \\rbrack \\\\\n",
      "\\lbrack -0.529 , -3.042 , 13.712 \\rbrack \\\\\n",
      "\\lbrack -5.544 , 1.423 , 12.126 \\rbrack \\\\\n",
      "\\lbrack -2.463 , -3.495 , 17.666 \\rbrack \\\\\n",
      "\\lbrack -0.018 , -3.803 , 13.752 \\rbrack \\\\\n",
      "\\lbrack -4.376 , -2.67 , 21.723 \\rbrack \\\\\n",
      "\\lbrack -4.354 , -2.726 , 17.396 \\rbrack \\\\\n",
      "\\lbrack -4.639 , -3.008 , 14.22 \\rbrack \\\\\n",
      "\\lbrack 0.47 , -3.703 , 18.625 \\rbrack \\\\\n",
      "\\lbrack 0.684 , 2.05 , 20.493 \\rbrack \\\\\n",
      "\\lbrack -5.878 , -2.464 , 20.765 \\rbrack \\\\\n",
      "\\lbrack 1.933 , 4.151 , 18.815 \\rbrack \\\\\n",
      "\\lbrack -3.493 , -2.669 , 10.278 \\rbrack \\\\\n",
      "\\lbrack -2.731 , 1.539 , 8.85 \\rbrack \\\\\n",
      "\\lbrack -8.05 , 0.845 , 17.014 \\rbrack \\\\\n",
      "\\lbrack -1.37 , -2.895 , 11.485 \\rbrack \\\\\n",
      "\\lbrack 0.918 , -3.48 , 13.848 \\rbrack \\\\\n",
      "\\lbrack -8.36 , -4.548 , 16.362 \\rbrack \\\\\n",
      "\\lbrack -2.457 , -3.353 , 16.761 \\rbrack \\\\\n",
      "\\lbrack 1.877 , 2.888 , 17.499 \\rbrack \\\\\n",
      "\\lbrack 7.585 , -3.416 , 16.326 \\rbrack \\\\\n",
      "\\lbrack -5.496 , -2.547 , 10.769 \\rbrack \\\\\n",
      "\\lbrack 0.878 , -6.185 , 18.33 \\rbrack \\\\\n",
      "\\lbrack 9.183 , -2.431 , 19.734 \\rbrack \\\\\n",
      "\\lbrack 0.311 , -5.372 , 19.831 \\rbrack \\\\\n",
      "\\lbrack -3.081 , 3.421 , 13.923 \\rbrack \\\\\n",
      "\\lbrack -3.024 , -2.695 , 10.286 \\rbrack \\\\\n",
      "\\lbrack -0.888 , 1.119 , 18.75 \\rbrack \\\\\n",
      "\\lbrack 2.91 , -4.456 , 15.387 \\rbrack \\\\\n",
      "\\lbrack -4.862 , -3.665 , 16.768 \\rbrack \\\\\n",
      "\\lbrack 2.951 , -5.277 , 20.677 \\rbrack \\\\\n",
      "\\lbrack -8.245 , 0.779 , 18.436 \\rbrack \\\\\n",
      "\\lbrack -3.545 , -2.555 , 10.382 \\rbrack \\\\\n",
      "\\lbrack -6.988 , 2.262 , 19.443 \\rbrack \\\\\n",
      "\\lbrack -7.603 , 2.72 , 14.664 \\rbrack \\\\\n",
      "\\lbrack -3.074 , -2.73 , 11.284 \\rbrack \\\\\n",
      "\\lbrack 9.976 , -3.654 , 17.414 \\rbrack \\\\\n",
      "\\lbrack 2.224 , -5.387 , 17.557 \\rbrack \\\\\n",
      "\\lbrack 2.057 , 2.171 , 18.364 \\rbrack \\\\\n",
      "\\lbrack -5.41 , -5.106 , 18.255 \\rbrack \\\\\n",
      "\\lbrack -7.161 , 1.69 , 13.177 \\rbrack \\\\\n",
      "\\lbrack 1.939 , -5.188 , 16.884 \\rbrack \\\\\n",
      "\\lbrack 4.904 , 2.249 , 21.193 \\rbrack \\\\\n",
      "\\lbrack -2.021 , -4.978 , 15.845 \\rbrack \\\\\n",
      "\\lbrack -0.966 , -3.671 , 13.729 \\rbrack \\\\\n",
      "\\lbrack 9.546 , -3.631 , 17.134 \\rbrack \\\\\n",
      "\\lbrack -8.158 , -3.247 , 16.505 \\rbrack \\\\\n",
      "\\lbrack 1.113 , -4.987 , 16.236 \\rbrack \\\\\n",
      "\\lbrack -9.508 , 2.986 , 15.539 \\rbrack \\\\\n",
      "\\lbrack -2.331 , -7.886 , 26.755 \\rbrack \\\\\n",
      "\\lbrack -0.227 , 3.472 , 17.187 \\rbrack \\\\\n",
      "\\lbrack 4.831 , 2.355 , 21.06 \\rbrack \\\\\n",
      "\\lbrack -2.309 , -6.335 , 29.36 \\rbrack \\\\\n",
      "\\lbrack -3.085 , -2.572 , 11.872 \\rbrack \\\\\n",
      "\\lbrack 6.811 , -3.28 , 17.485 \\rbrack \\\\\n",
      "\\lbrack -0.315 , -5.608 , 18.433 \\rbrack \\\\\n"
     ]
    }
   ],
   "source": [
    "for i in tvecs:\n",
    "    print('\\lbrack',np.round(i[0][0],3),',',np.round(i[1][0],3),',',np.round(i[2][0],3),'\\\\rbrack \\\\\\\\')\n",
    "    \n"
   ]
  },
  {
   "cell_type": "code",
   "execution_count": 13,
   "metadata": {
    "collapsed": false
   },
   "outputs": [
    {
     "name": "stdout",
     "output_type": "stream",
     "text": [
      "\\lbrack 0.121 , -0.068 , 0.068 \\rbrack \\\\\n",
      "\\lbrack -0.654 , 0.871 , 0.884 \\rbrack \\\\\n",
      "\\lbrack 0.437 , 0.17 , 0.146 \\rbrack \\\\\n",
      "\\lbrack 0.073 , -0.158 , 0.658 \\rbrack \\\\\n",
      "\\lbrack 0.012 , -0.056 , -0.036 \\rbrack \\\\\n",
      "\\lbrack -0.302 , -0.449 , 1.555 \\rbrack \\\\\n",
      "\\lbrack -0.26 , -0.915 , 1.448 \\rbrack \\\\\n",
      "\\lbrack 0.062 , -0.002 , -0.021 \\rbrack \\\\\n",
      "\\lbrack -0.233 , 0.742 , 0.271 \\rbrack \\\\\n",
      "\\lbrack -0.547 , 0.02 , 0.172 \\rbrack \\\\\n",
      "\\lbrack -0.116 , -0.907 , -1.287 \\rbrack \\\\\n",
      "\\lbrack -0.458 , -0.553 , 1.553 \\rbrack \\\\\n",
      "\\lbrack 0.121 , 0.247 , 0.22 \\rbrack \\\\\n",
      "\\lbrack 0.145 , -0.118 , -0.079 \\rbrack \\\\\n",
      "\\lbrack 0.02 , -0.066 , -0.011 \\rbrack \\\\\n",
      "\\lbrack -0.642 , 0.105 , 0.168 \\rbrack \\\\\n",
      "\\lbrack -0.576 , -0.648 , 1.5 \\rbrack \\\\\n",
      "\\lbrack -0.052 , 0.851 , -1.36 \\rbrack \\\\\n",
      "\\lbrack -0.237 , -0.485 , 1.458 \\rbrack \\\\\n",
      "\\lbrack 0.225 , -0.08 , -1.444 \\rbrack \\\\\n",
      "\\lbrack 0.073 , -0.241 , -0.067 \\rbrack \\\\\n",
      "\\lbrack -0.533 , -0.471 , -1.48 \\rbrack \\\\\n",
      "\\lbrack 0.087 , 0.22 , -0.856 \\rbrack \\\\\n",
      "\\lbrack 0.188 , -0.009 , 0.05 \\rbrack \\\\\n",
      "\\lbrack -0.006 , -0.809 , 1.31 \\rbrack \\\\\n",
      "\\lbrack 0.081 , -0.346 , -0.066 \\rbrack \\\\\n",
      "\\lbrack -0.529 , -0.607 , 1.541 \\rbrack \\\\\n",
      "\\lbrack -0.156 , 0.345 , -1.399 \\rbrack \\\\\n",
      "\\lbrack 0.941 , 0.677 , 1.51 \\rbrack \\\\\n",
      "\\lbrack 0.183 , -0.713 , -0.065 \\rbrack \\\\\n",
      "\\lbrack -0.619 , -0.053 , 0.068 \\rbrack \\\\\n",
      "\\lbrack 0.051 , -0.126 , 1.575 \\rbrack \\\\\n",
      "\\lbrack 0.093 , 0.019 , -0.044 \\rbrack \\\\\n",
      "\\lbrack 0.089 , 0.099 , -1.504 \\rbrack \\\\\n",
      "\\lbrack 0.041 , -0.163 , -0.05 \\rbrack \\\\\n",
      "\\lbrack -0.936 , 0.029 , -0.022 \\rbrack \\\\\n",
      "\\lbrack -0.343 , 0.401 , 1.557 \\rbrack \\\\\n",
      "\\lbrack -0.739 , 0.529 , 0.51 \\rbrack \\\\\n",
      "\\lbrack 0.135 , 0.409 , 0.096 \\rbrack \\\\\n",
      "\\lbrack 0.066 , 0.312 , -0.844 \\rbrack \\\\\n",
      "\\lbrack 0.597 , -0.017 , 0.081 \\rbrack \\\\\n",
      "\\lbrack 0.398 , -0.144 , -1.387 \\rbrack \\\\\n",
      "\\lbrack 0.141 , -0.56 , -1.373 \\rbrack \\\\\n",
      "\\lbrack 0.039 , 0.104 , -0.038 \\rbrack \\\\\n",
      "\\lbrack 0.871 , 0.862 , 1.5 \\rbrack \\\\\n",
      "\\lbrack 0.005 , 0.103 , -0.008 \\rbrack \\\\\n",
      "\\lbrack -0.298 , 0.531 , -1.393 \\rbrack \\\\\n",
      "\\lbrack 0.049 , 0.117 , -0.058 \\rbrack \\\\\n",
      "\\lbrack -0.526 , -0.057 , -1.341 \\rbrack \\\\\n",
      "\\lbrack -0.01 , -0.019 , -0.021 \\rbrack \\\\\n",
      "\\lbrack -0.107 , 0.906 , -1.422 \\rbrack \\\\\n",
      "\\lbrack 0.033 , -0.586 , 1.436 \\rbrack \\\\\n",
      "\\lbrack 0.139 , 0.202 , 0.207 \\rbrack \\\\\n",
      "\\lbrack 0.908 , 0.83 , 1.477 \\rbrack \\\\\n",
      "\\lbrack 0.21 , -0.499 , 0.044 \\rbrack \\\\\n",
      "\\lbrack -0.594 , 0.125 , 1.08 \\rbrack \\\\\n",
      "\\lbrack 0.156 , -0.327 , -1.378 \\rbrack \\\\\n",
      "\\lbrack 0.239 , -0.196 , 0.558 \\rbrack \\\\\n",
      "\\lbrack 0.139 , 0.135 , -1.554 \\rbrack \\\\\n",
      "\\lbrack -0.077 , 0.914 , -1.435 \\rbrack \\\\\n",
      "\\lbrack 0.078 , 0.009 , 0.065 \\rbrack \\\\\n",
      "\\lbrack 0.037 , 0.13 , -0.053 \\rbrack \\\\\n",
      "\\lbrack -0.082 , 0.665 , 1.416 \\rbrack \\\\\n",
      "\\lbrack -0.618 , 0.057 , -0.047 \\rbrack \\\\\n"
     ]
    }
   ],
   "source": [
    "for i in rvecs:\n",
    "#     print('[', np.round(i[0][0],3),',',np.round(i[1][0],3),',',np.round(i[2][0],3),']')\n",
    "    print('\\lbrack',np.round(i[0][0],3),',',np.round(i[1][0],3),',',np.round(i[2][0],3),'\\\\rbrack \\\\\\\\')"
   ]
  },
  {
   "cell_type": "code",
   "execution_count": 8,
   "metadata": {
    "collapsed": true
   },
   "outputs": [],
   "source": [
    "img = cv2.imread('atWork50/my_photo-56.jpg')\n",
    "# img = cv2.imread('selectedFeature/2019-05-13-172802.jpg')\n",
    "# img = cv2.imread('Webcam/2019-05-13-171433.jpg')\n",
    "h,  w = img.shape[:2]\n",
    "newcameramtx, roi=cv2.getOptimalNewCameraMatrix(mtx,dist,(w,h),1,(w,h))\n",
    "cv2.imshow('img',img)\n",
    "cv2.waitKey(2000)\n",
    "cv2.destroyAllWindows()"
   ]
  },
  {
   "cell_type": "code",
   "execution_count": 9,
   "metadata": {
    "collapsed": false
   },
   "outputs": [
    {
     "data": {
      "text/plain": [
       "True"
      ]
     },
     "execution_count": 9,
     "metadata": {},
     "output_type": "execute_result"
    }
   ],
   "source": [
    "# undistort Using cv2.undistort()\n",
    "i = 0\n",
    "dst = cv2.undistort(img, mtx, dist, None, newcameramtx)\n",
    "\n",
    "# crop the image\n",
    "x,y,w,h = roi\n",
    "dst = dst[y:y+h, x:x+w]\n",
    "cv2.imwrite('result/calibrated.png',dst)\n",
    "cv2.imwrite('result/original.png',img)\n",
    "# for i in range(6):\n",
    "#     if(i%2==0):\n",
    "#         cv2.imshow('opencvData/left12.jpg',img)\n",
    "#         cv2.waitKey(1000)\n",
    "#     else:\n",
    "#         cv2.imshow('opencvData/left12.jpg',dst)\n",
    "#         cv2.waitKey(1000)\n",
    "# cv2.destroyAllWindows()"
   ]
  },
  {
   "cell_type": "code",
   "execution_count": 45,
   "metadata": {
    "collapsed": false
   },
   "outputs": [
    {
     "data": {
      "text/plain": [
       "True"
      ]
     },
     "execution_count": 45,
     "metadata": {},
     "output_type": "execute_result"
    }
   ],
   "source": [
    "# undistort Using cv2.undistort()\n",
    "mapx,mapy = cv2.initUndistortRectifyMap(mtx,dist,None,newcameramtx,(w,h),5)\n",
    "dst = cv2.remap(img,mapx,mapy,cv2.INTER_LINEAR)\n",
    "\n",
    "# crop the image\n",
    "x,y,w,h = roi\n",
    "dst = dst[y:y+h, x:x+w]\n",
    "# cv2.imwrite('calibresult.png',dst)\n",
    "cv2.imwrite('result/calibresult.png',dst)\n",
    "cv2.imwrite('result/calibresult1.png',img)\n",
    "#Loop to look the images\n",
    "# for i in range(6):\n",
    "#     if(i%2==0):\n",
    "#         cv2.imshow('opencvData/left12.jpg',img)\n",
    "#         cv2.waitKey(1000)\n",
    "#     else:\n",
    "#         cv2.imshow('opencvData/left12.jpg',dst)\n",
    "#         cv2.waitKey(1000)\n",
    "# cv2.destroyAllWindows()"
   ]
  },
  {
   "cell_type": "code",
   "execution_count": 41,
   "metadata": {
    "collapsed": true
   },
   "outputs": [],
   "source": [
    "# To save the result of camera matrix and distortion coefficient\n",
    "np.savetxt(\"result.txt\", mtx, delimiter=',', newline='\\n')\n",
    "np.savetxt(\"result.txt\", dist, delimiter=',')"
   ]
  },
  {
   "cell_type": "markdown",
   "metadata": {
    "collapsed": true
   },
   "source": [
    "https://dataplatform.cloud.ibm.com/data/notebooks/converter/jupyter/0849b7a8-d79b-4dc9-a104-0020b2b350f7?access_token=b2abf8704d456ae2254a32746f4af0e0d9eed41a8ffebdd3cd16dec20dcbd592"
   ]
  },
  {
   "cell_type": "code",
   "execution_count": 10,
   "metadata": {
    "collapsed": false
   },
   "outputs": [
    {
     "name": "stdout",
     "output_type": "stream",
     "text": [
      "total error:  0.04494475539817287\n",
      "total error sqrt:  0.04795749659097786\n"
     ]
    }
   ],
   "source": [
    "tot_error = 0\n",
    "for i in range(len(objpoints)):\n",
    "    imgpoints2, _ = cv2.projectPoints(objpoints[i], rvecs[i], tvecs[i], mtx, dist)\n",
    "    error = cv2.norm(imgpoints[i],imgpoints2, cv2.NORM_L2)/len(imgpoints2)\n",
    "    tot_error += error\n",
    "\n",
    "print (\"total error: \", tot_error/len(objpoints))\n",
    "\n",
    "# according to https://gist.github.com/TimSC/bf14579149b4d36e3558\n",
    "tot_error = 0\n",
    "for i in range(len(objpoints)):\n",
    "    imgpoints2, _ = cv2.projectPoints(objpoints[i], rvecs[i], tvecs[i], mtx, dist)\n",
    "    error = cv2.norm(imgpoints[i],imgpoints2, cv2.NORM_L2)/len(imgpoints2)\n",
    "    tot_error += error*error\n",
    "\n",
    "print (\"total error sqrt: \", np.sqrt(tot_error/len(objpoints)))"
   ]
  },
  {
   "cell_type": "markdown",
   "metadata": {
    "collapsed": true
   },
   "source": [
    "error with equal distance = 0.2545\n",
    "error with unequal distance = 0.2324"
   ]
  },
  {
   "cell_type": "code",
   "execution_count": 6,
   "metadata": {
    "collapsed": true
   },
   "outputs": [],
   "source": [
    "def draw(img, corners, imgpts):\n",
    "    corner = tuple(corners[0].ravel())\n",
    "    img = cv2.line(img, corner, tuple(imgpts[0].ravel()), (255,0,0), 5)\n",
    "    img = cv2.line(img, corner, tuple(imgpts[1].ravel()), (0,255,0), 5)\n",
    "    img = cv2.line(img, corner, tuple(imgpts[2].ravel()), (0,0,255), 5)\n",
    "    return img"
   ]
  },
  {
   "cell_type": "code",
   "execution_count": 18,
   "metadata": {
    "collapsed": true
   },
   "outputs": [],
   "source": [
    "criteria = (cv2.TERM_CRITERIA_EPS + cv2.TERM_CRITERIA_MAX_ITER, 30, 0.001)\n",
    "objp = np.zeros((6*7,3), np.float32)\n",
    "objp[:,:2] = np.mgrid[0:7,0:6].T.reshape(-1,2)\n",
    "\n",
    "axis = np.float32([[3,0,0], [0,3,0], [0,0,-3]]).reshape(-1,3)"
   ]
  },
  {
   "cell_type": "code",
   "execution_count": null,
   "metadata": {
    "collapsed": false
   },
   "outputs": [],
   "source": []
  },
  {
   "cell_type": "code",
   "execution_count": 36,
   "metadata": {
    "collapsed": false
   },
   "outputs": [
    {
     "name": "stdout",
     "output_type": "stream",
     "text": [
      "finding corner\n"
     ]
    },
    {
     "ename": "error",
     "evalue": "OpenCV(4.1.0) /io/opencv/modules/calib3d/src/solvepnp.cpp:280: error: (-215:Assertion failed) npoints >= 4 && npoints == std::max(ipoints.checkVector(2, CV_32F), ipoints.checkVector(2, CV_64F)) in function 'solvePnPRansac'\n",
     "output_type": "error",
     "traceback": [
      "\u001b[0;31m---------------------------------------------------------------------------\u001b[0m",
      "\u001b[0;31merror\u001b[0m                                     Traceback (most recent call last)",
      "\u001b[0;32m<ipython-input-36-2304ab650af7>\u001b[0m in \u001b[0;36m<module>\u001b[0;34m()\u001b[0m\n\u001b[1;32m      8\u001b[0m \u001b[0;34m\u001b[0m\u001b[0m\n\u001b[1;32m      9\u001b[0m         \u001b[0;31m# Find the rotation and translation vectors.\u001b[0m\u001b[0;34m\u001b[0m\u001b[0;34m\u001b[0m\u001b[0;34m\u001b[0m\u001b[0m\n\u001b[0;32m---> 10\u001b[0;31m         \u001b[0mrvecs\u001b[0m\u001b[0;34m,\u001b[0m \u001b[0mtvecs\u001b[0m\u001b[0;34m,\u001b[0m \u001b[0minliers\u001b[0m \u001b[0;34m=\u001b[0m \u001b[0mcv2\u001b[0m\u001b[0;34m.\u001b[0m\u001b[0msolvePnPRansac\u001b[0m\u001b[0;34m(\u001b[0m\u001b[0mobjp\u001b[0m\u001b[0;34m,\u001b[0m \u001b[0mcorners2\u001b[0m\u001b[0;34m,\u001b[0m \u001b[0mmtx\u001b[0m\u001b[0;34m[\u001b[0m\u001b[0;36m0\u001b[0m\u001b[0;34m]\u001b[0m\u001b[0;34m,\u001b[0m \u001b[0mdist\u001b[0m\u001b[0;34m)\u001b[0m\u001b[0;34m\u001b[0m\u001b[0;34m\u001b[0m\u001b[0m\n\u001b[0m\u001b[1;32m     11\u001b[0m \u001b[0;34m\u001b[0m\u001b[0m\n\u001b[1;32m     12\u001b[0m         \u001b[0;31m# project 3D points to image plane\u001b[0m\u001b[0;34m\u001b[0m\u001b[0;34m\u001b[0m\u001b[0;34m\u001b[0m\u001b[0m\n",
      "\u001b[0;31merror\u001b[0m: OpenCV(4.1.0) /io/opencv/modules/calib3d/src/solvepnp.cpp:280: error: (-215:Assertion failed) npoints >= 4 && npoints == std::max(ipoints.checkVector(2, CV_32F), ipoints.checkVector(2, CV_64F)) in function 'solvePnPRansac'\n"
     ]
    }
   ],
   "source": [
    "for fname in glob.glob(\"result/*.png\"):\n",
    "    img = cv2.imread(fname)\n",
    "    gray = cv2.cvtColor(img,cv2.COLOR_BGR2GRAY)\n",
    "    ret, corners = cv2.findChessboardCorners(gray, (8,6),None)\n",
    "    print(\"finding corner\")\n",
    "    if ret == True:\n",
    "        corners2 = cv2.cornerSubPix(gray,corners,(11,11),(-1,-1),criteria)\n",
    "\n",
    "        # Find the rotation and translation vectors.\n",
    "        rvecs, tvecs, inliers = cv2.solvePnPRansac(objp, corners2, mtx[0], dist)\n",
    "\n",
    "        # project 3D points to image plane\n",
    "        imgpts, jac = cv2.projectPoints(axis, rvecs, tvecs, mtx, dist)\n",
    "\n",
    "        img = draw(img,corners2,imgpts)\n",
    "        cv2.imshow('img',img)\n",
    "        k = cv2.waitKey(0) & 0xff\n",
    "        if k == 's':\n",
    "            cv2.imwrite(fname[:6]+'.png', img)\n",
    "\n",
    "cv2.destroyAllWindows()"
   ]
  },
  {
   "cell_type": "code",
   "execution_count": 25,
   "metadata": {
    "collapsed": true
   },
   "outputs": [],
   "source": [
    "for fname in glob.glob('left*.jpg'):\n",
    "    img = cv2.imread(fname)\n",
    "    gray = cv2.cvtColor(img,cv2.COLOR_BGR2GRAY)\n",
    "    ret, corners = cv2.findChessboardCorners(gray, (7,6),None)\n",
    "\n",
    "    if ret == True:\n",
    "        corners2 = cv2.cornerSubPix(gray,corners,(11,11),(-1,-1),criteria)\n",
    "\n",
    "        # Find the rotation and translation vectors.\n",
    "        rvecs, tvecs, inliers = cv2.solvePnPRansac(objp, corners2, mtx[0], dist[0])\n",
    "\n",
    "        # project 3D points to image plane\n",
    "        imgpts, jac = cv2.projectPoints(axis, rvecs, tvecs, mtx, dist)\n",
    "\n",
    "        img = draw(img,corners2,imgpts)\n",
    "        cv2.imshow('img',img)\n",
    "        k = cv2.waitKey(0) & 0xff\n",
    "        if k == 's':\n",
    "            cv2.imwrite(fname[:6]+'.png', img)\n",
    "\n",
    "cv2.destroyAllWindows()"
   ]
  },
  {
   "cell_type": "code",
   "execution_count": 28,
   "metadata": {
    "collapsed": false
   },
   "outputs": [
    {
     "data": {
      "text/plain": [
       "array([-0.02308331,  0.18778268,  0.00185078,  0.00165127, -0.35331354])"
      ]
     },
     "execution_count": 28,
     "metadata": {},
     "output_type": "execute_result"
    }
   ],
   "source": [
    "dist[0]\n"
   ]
  },
  {
   "cell_type": "code",
   "execution_count": null,
   "metadata": {
    "collapsed": true
   },
   "outputs": [],
   "source": []
  }
 ],
 "metadata": {
  "kernelspec": {
   "display_name": "Python 3",
   "language": "python",
   "name": "python3"
  },
  "language_info": {
   "codemirror_mode": {
    "name": "ipython",
    "version": 3
   },
   "file_extension": ".py",
   "mimetype": "text/x-python",
   "name": "python",
   "nbconvert_exporter": "python",
   "pygments_lexer": "ipython3",
   "version": "3.6.8"
  }
 },
 "nbformat": 4,
 "nbformat_minor": 2
}
